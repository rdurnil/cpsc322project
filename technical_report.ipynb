{
 "cells": [
  {
   "cell_type": "markdown",
   "metadata": {},
   "source": [
    "# Ozone Level - Mt. Rainer\n",
    "##### Rie Durnel and Kevin Olbright \n",
    "##### CPSC 322, Spring 2022"
   ]
  },
  {
   "cell_type": "markdown",
   "metadata": {},
   "source": [
    "## Introduction \n",
    "For this project we chose the EPA's ozone and weather measurements for Mt. Rainer beginning in 2007.   \n",
    "We were attempting to predict ozone levels based on the weather conditions at the time of measurement.  \n",
    "#TODO: add the classifier results"
   ]
  },
  {
   "cell_type": "markdown",
   "metadata": {},
   "source": [
    "## Data Analysis\n",
    "Our dataset consisted almost entirely of continuous data. Even the non-continuous data was designed to be entirely unique. This meant that we were required to discritize our data in order to ensure that the desicion trees could be constructed.  \n",
    "Initially, before cleaning, the dataset had 78888 instances. After removing rows with most of the column data missing, we were left with (#TODO: add more info here)"
   ]
  }
 ],
 "metadata": {
  "language_info": {
   "name": "python"
  },
  "orig_nbformat": 4
 },
 "nbformat": 4,
 "nbformat_minor": 2
}
