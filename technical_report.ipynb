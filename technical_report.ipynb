{
 "cells": [
  {
   "cell_type": "markdown",
   "metadata": {},
   "source": [
    "# Ozone Level - Mt. Rainer\n",
    "##### Rie Durnel and Kevin Olbright \n",
    "##### CPSC 322, Spring 2022"
   ]
  },
  {
   "cell_type": "markdown",
   "metadata": {},
   "source": [
    "## Introduction \n",
    "For this project we chose the EPA's ozone and weather measurements for Mt. Rainer beginning in 2007.   \n",
    "We were attempting to predict ozone levels based on the weather conditions at the time of measurement.  \n",
    "#TODO: add the classifier results"
   ]
  },
  {
   "cell_type": "markdown",
   "metadata": {},
   "source": [
    "## Data Analysis\n",
    "Our dataset consisted almost entirely of continuous data. Even the non-continuous data was designed to be entirely unique. This meant that we were required to discritize our data in order to ensure that the desicion trees could be constructed or remove unique idenifiers before classifying the data.  \n",
    "Initially, before cleaning, the dataset had 78888 instances. After removing rows with most of the column data missing, we were left with 36699 rows of data. This was too much for our machines to compute so we pruned the data until we were left with 1050 instances with each ozone level being represented and equal number of times. "
   ]
  },
  {
   "cell_type": "markdown",
   "metadata": {},
   "source": [
    "## Classification"
   ]
  },
  {
   "cell_type": "markdown",
   "metadata": {},
   "source": [
    "## Conclusion"
   ]
  }
 ],
 "metadata": {
  "interpreter": {
   "hash": "d4d1e4263499bec80672ea0156c357c1ee493ec2b1c70f0acce89fc37c4a6abe"
  },
  "kernelspec": {
   "display_name": "Python 3.9.7 ('base')",
   "language": "python",
   "name": "python3"
  },
  "language_info": {
   "name": "python",
   "version": "3.9.7"
  },
  "orig_nbformat": 4
 },
 "nbformat": 4,
 "nbformat_minor": 2
}
