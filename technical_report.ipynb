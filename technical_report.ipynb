{
 "cells": [
  {
   "cell_type": "markdown",
   "metadata": {},
   "source": [
    "# Ozone Level - Mt. Rainer\n",
    "##### Rie Durnel and Kevin Olbright \n",
    "##### CPSC 322, Spring 2022"
   ]
  },
  {
   "cell_type": "markdown",
   "metadata": {},
   "source": [
    "## Introduction \n",
    "For this project we chose the EPA's ozone and weather measurements for Mt. Rainer beginning in 2007.   \n",
    "We were attempting to predict ozone levels based on the weather conditions at the time of measurement.  \n",
    "#TODO: add the classifier results"
   ]
  },
  {
   "cell_type": "markdown",
   "metadata": {},
   "source": [
    "## Data Analysis\n",
    "Our dataset consisted almost entirely of continuous data. Even the non-continuous data was designed to be entirely unique. This meant that we were required to discritize our data in order to ensure that the desicion trees could be constructed or remove unique idenifiers before classifying the data.  \n",
    "Initially, before cleaning, the dataset had 78888 instances. After removing rows with most of the column data missing, we were left with 36699 rows of data. This was too much for our machines to compute so we pruned the data until we were left with 1050 instances with each ozone level being represented and equal number of times. "
   ]
  },
  {
   "cell_type": "code",
   "execution_count": 4,
   "metadata": {},
   "outputs": [
    {
     "ename": "AttributeError",
     "evalue": "module 'mysklearn.myvisualization' has no attribute 'scatter_chart_creation'",
     "output_type": "error",
     "traceback": [
      "\u001b[0;31m---------------------------------------------------------------------------\u001b[0m",
      "\u001b[0;31mAttributeError\u001b[0m                            Traceback (most recent call last)",
      "\u001b[0;32m/tmp/ipykernel_3192/1741058761.py\u001b[0m in \u001b[0;36m<module>\u001b[0;34m\u001b[0m\n\u001b[1;32m     22\u001b[0m \u001b[0my_data\u001b[0m \u001b[0;34m=\u001b[0m \u001b[0mcontinuous_data\u001b[0m\u001b[0;34m.\u001b[0m\u001b[0mget_column\u001b[0m\u001b[0;34m(\u001b[0m\u001b[0my_label\u001b[0m\u001b[0;34m)\u001b[0m\u001b[0;34m\u001b[0m\u001b[0;34m\u001b[0m\u001b[0m\n\u001b[1;32m     23\u001b[0m \u001b[0;34m\u001b[0m\u001b[0m\n\u001b[0;32m---> 24\u001b[0;31m \u001b[0mmyvisualization\u001b[0m\u001b[0;34m.\u001b[0m\u001b[0mscatter_chart_creation\u001b[0m\u001b[0;34m(\u001b[0m\u001b[0mx_data\u001b[0m\u001b[0;34m,\u001b[0m \u001b[0my_data\u001b[0m\u001b[0;34m,\u001b[0m \u001b[0mx_label\u001b[0m\u001b[0;34m=\u001b[0m\u001b[0mx_label\u001b[0m\u001b[0;34m,\u001b[0m \u001b[0my_label\u001b[0m\u001b[0;34m=\u001b[0m\u001b[0my_label\u001b[0m\u001b[0;34m)\u001b[0m\u001b[0;34m\u001b[0m\u001b[0;34m\u001b[0m\u001b[0m\n\u001b[0m",
      "\u001b[0;31mAttributeError\u001b[0m: module 'mysklearn.myvisualization' has no attribute 'scatter_chart_creation'"
     ]
    }
   ],
   "source": [
    "import importlib\n",
    "import os\n",
    "\n",
    "import mysklearn.myutils\n",
    "importlib.reload(mysklearn.myutils)\n",
    "import mysklearn.myutils as myutils\n",
    "\n",
    "# uncomment once you paste your mypytable.py into mysklearn package\n",
    "import mysklearn.mypytable\n",
    "importlib.reload(mysklearn.mypytable)\n",
    "from mysklearn.mypytable import MyPyTable \n",
    "\n",
    "import mysklearn.myrandomforestclassifier \n",
    "importlib.reload(mysklearn.myrandomforestclassifier)\n",
    "from mysklearn.myrandomforestclassifier import MyRandomForestClassifier\n",
    "from mysklearn import myvisualization \n",
    "continuous_data = MyPyTable()\n",
    "continuous_data.load_from_file(\"meteorological-hourly-clean.csv\")\n",
    "x_label = \"TEMPERATURE\"\n",
    "y_label = \"OZONE\"\n",
    "x_data = continuous_data.get_column(x_label)\n",
    "y_data = continuous_data.get_column(y_label)\n",
    "\n",
    "myvisualization.scatter_chart_creation(x_data, y_data, x_label=x_label, y_label=y_label)\n"
   ]
  },
  {
   "cell_type": "markdown",
   "metadata": {},
   "source": [
    "## Classification"
   ]
  },
  {
   "cell_type": "markdown",
   "metadata": {},
   "source": [
    "## Conclusion"
   ]
  }
 ],
 "metadata": {
  "interpreter": {
   "hash": "d4d1e4263499bec80672ea0156c357c1ee493ec2b1c70f0acce89fc37c4a6abe"
  },
  "kernelspec": {
   "display_name": "Python 3.9.7 ('base')",
   "language": "python",
   "name": "python3"
  },
  "language_info": {
   "codemirror_mode": {
    "name": "ipython",
    "version": 3
   },
   "file_extension": ".py",
   "mimetype": "text/x-python",
   "name": "python",
   "nbconvert_exporter": "python",
   "pygments_lexer": "ipython3",
   "version": "3.9.7"
  },
  "orig_nbformat": 4
 },
 "nbformat": 4,
 "nbformat_minor": 2
}
