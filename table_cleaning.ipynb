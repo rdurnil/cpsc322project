{
 "cells": [
  {
   "cell_type": "code",
   "execution_count": null,
   "metadata": {},
   "outputs": [],
   "source": [
    "import MyPyTable from mypytable"
   ]
  },
  {
   "cell_type": "markdown",
   "metadata": {},
   "source": [
    "All columns prior to cleaning:\n",
    "\n",
    "\"SITE_ID\",\"DATE_TIME\",\"TEMPERATURE\",\"TEMPERATURE_DELTA\",\"RELATIVE_HUMIDITY\",\"SOLAR_RADIATION\",\"OZONE\",\n",
    "\"PRECIPITATION\",\"WINDSPEED\",\"WIND_DIRECTION\",\n",
    "\"SIGMA_THETA\",\"FLOW_RATE\",\"WINDSPEED_SCALAR\",\"WETNESS\",\"SHELTER_TEMPERATURE\",\"QA_CODE\",\"UPDATE_DATE\"\n",
    "\n",
    "To remove:\n",
    "* \"SITE_ID\"\n",
    "* \"TEMPERATURE_DELTA\"\n",
    "* \"SIGMA_THETA\"\n",
    "* \"QA_CODE\"\n",
    "* \"UPDATE_DATE\"\n",
    "* \"WETNESS\""
   ]
  },
  {
   "cell_type": "code",
   "execution_count": null,
   "metadata": {},
   "outputs": [],
   "source": [
    "table = MyPyTable()\n",
    "table.loadFromFile(\"meteorological-hourly.csv\")"
   ]
  }
 ],
 "metadata": {
  "language_info": {
   "name": "python"
  },
  "orig_nbformat": 4
 },
 "nbformat": 4,
 "nbformat_minor": 2
}
