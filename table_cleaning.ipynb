{
 "cells": [
  {
   "cell_type": "code",
   "execution_count": 24,
   "metadata": {},
   "outputs": [],
   "source": [
    "from mypytable import MyPyTable \n",
    "from myclassifiers import MyKNeighborsClassifier, MyNaiveBayesClassifier\n",
    "import myutils as myutils\n",
    "import numpy as np\n",
    "import myevaluation as myevaluation\n",
    "import importlib"
   ]
  },
  {
   "cell_type": "markdown",
   "metadata": {},
   "source": [
    "All columns prior to cleaning:\n",
    "\n",
    "\"SITE_ID\",\"DATE_TIME\",\"TEMPERATURE\",\"TEMPERATURE_DELTA\",\"RELATIVE_HUMIDITY\",\"SOLAR_RADIATION\",\"OZONE\",\n",
    "\"PRECIPITATION\",\"WINDSPEED\",\"WIND_DIRECTION\",\n",
    "\"SIGMA_THETA\",\"FLOW_RATE\",\"WINDSPEED_SCALAR\",\"WETNESS\",\"SHELTER_TEMPERATURE\",\"QA_CODE\",\"UPDATE_DATE\"\n",
    "\n",
    "To remove:\n",
    "* \"SITE_ID\"\n",
    "* \"TEMPERATURE_DELTA\"\n",
    "* \"SIGMA_THETA\"\n",
    "* \"QA_CODE\"\n",
    "* \"UPDATE_DATE\"\n",
    "* \"WETNESS\""
   ]
  },
  {
   "cell_type": "code",
   "execution_count": 25,
   "metadata": {},
   "outputs": [
    {
     "name": "stdout",
     "output_type": "stream",
     "text": [
      "(36699, 11)\n"
     ]
    }
   ],
   "source": [
    "table = MyPyTable()\n",
    "table.load_from_file(\"meteorological-hourly.csv\")\n",
    "clean_table = table.get_multiple_columns([\"DATE_TIME\",\"TEMPERATURE\",\"RELATIVE_HUMIDITY\",\"SOLAR_RADIATION\",\"OZONE\",\\\n",
    "    \"PRECIPITATION\",\"WINDSPEED\",\"WIND_DIRECTION\",\"FLOW_RATE\",\"WINDSPEED_SCALAR\",\"SHELTER_TEMPERATURE\"], \"\", False)\n",
    "print(clean_table.get_shape())\n",
    "clean_table.save_to_file(\"meteorological-hourly-clean.csv\")"
   ]
  },
  {
   "cell_type": "markdown",
   "metadata": {},
   "source": [
    "Ozone Classification:\n",
    "* Low: 0-15\n",
    "* Normal: 16-35\n",
    "* High: 36-"
   ]
  },
  {
   "cell_type": "code",
   "execution_count": 26,
   "metadata": {},
   "outputs": [],
   "source": [
    "ozone_column = clean_table.get_column(\"OZONE\")\n",
    "classified_column = []\n",
    "for ozone in ozone_column:\n",
    "    classified_column.append(myutils.ozone_assigning(ozone))\n",
    "clean_table_2 = clean_table.get_multiple_columns([\"DATE_TIME\",\"TEMPERATURE\",\"RELATIVE_HUMIDITY\",\"SOLAR_RADIATION\",\\\n",
    "    \"PRECIPITATION\",\"WINDSPEED\",\"WIND_DIRECTION\",\"FLOW_RATE\",\"WINDSPEED_SCALAR\",\"SHELTER_TEMPERATURE\"], \"\", False)\n",
    "clean_table_2.add_column(\"OZONE_LEVEL\", classified_column)"
   ]
  },
  {
   "cell_type": "code",
   "execution_count": 27,
   "metadata": {},
   "outputs": [
    {
     "data": {
      "image/png": "[encoded data removed]",
      "text/plain": [
       "<Figure size 432x288 with 1 Axes>"
      ]
     },
     "metadata": {
      "needs_background": "light"
     },
     "output_type": "display_data"
    }
   ],
   "source": [
    "classifiers = [\"Low\", \"Normal\", \"High\"]\n",
    "classifier_count = myutils.count_unique_items(classified_column, classifiers)\n",
    "myutils.bar_chart(classifiers, classifier_count, \"Distribution of Classes\")"
   ]
  },
  {
   "cell_type": "code",
   "execution_count": 28,
   "metadata": {},
   "outputs": [],
   "source": [
    "importlib.reload(myutils)\n",
    "\n",
    "date = clean_table.get_column(\"DATE_TIME\")\n",
    "temp = clean_table.get_column(\"TEMPERATURE\")\n",
    "humidity = clean_table.get_column(\"RELATIVE_HUMIDITY\")\n",
    "radiation = clean_table.get_column(\"SOLAR_RADIATION\")\n",
    "precip = clean_table.get_column(\"PRECIPITATION\")\n",
    "wind_speed = clean_table.get_column(\"WINDSPEED\")\n",
    "wind_dir = clean_table.get_column(\"WIND_DIRECTION\")\n",
    "flow = clean_table.get_column(\"FLOW_RATE\")\n",
    "wind_scalar = clean_table.get_column(\"WINDSPEED_SCALAR\")\n",
    "shelter = clean_table.get_column(\"SHELTER_TEMPERATURE\")\n",
    "X = [[date[i], temp[i], humidity[i], radiation[i], precip[i], wind_speed[i], wind_dir[i], flow[i], wind_scalar[i], shelter[i]] for i in range(len(temp))]\n",
    "X_to_trim = [X[i] + [classified_column[i]] for i in range(len(X))]\n",
    "classes, class_subtables = myutils.group_by_for_trimming(X_to_trim, classified_column)\n",
    "np.random.seed(0)\n",
    "rows_to_keep = [class_subtables[0][i][0] for i in range(len(class_subtables[0]))]\n",
    "for i in range(len(class_subtables[0])):\n",
    "    to_keep = class_subtables[1].pop(np.random.randint(0, len(class_subtables[1])))\n",
    "    rows_to_keep.append(to_keep[0])\n",
    "    to_keep = class_subtables[2].pop(np.random.randint(0, len(class_subtables[2])))\n",
    "    rows_to_keep.append(to_keep[0])\n",
    "\n",
    "rows_to_remove = list(np.arange(0, len(classified_column)))\n",
    "for row in rows_to_keep:\n",
    "    rows_to_remove.remove(row)\n",
    "clean_table_2.drop_rows(rows_to_remove)\n",
    "clean_table_2.save_to_file(\"meteorological-hourly-clean.csv\")"
   ]
  },
  {
   "cell_type": "code",
   "execution_count": 29,
   "metadata": {},
   "outputs": [
    {
     "ename": "KeyboardInterrupt",
     "evalue": "",
     "output_type": "error",
     "traceback": [
      "\u001b[0;31m---------------------------------------------------------------------------\u001b[0m",
      "\u001b[0;31mKeyboardInterrupt\u001b[0m                         Traceback (most recent call last)",
      "\u001b[0;32m/tmp/ipykernel_27376/341156734.py\u001b[0m in \u001b[0;36m<module>\u001b[0;34m\u001b[0m\n\u001b[1;32m     16\u001b[0m \u001b[0my2\u001b[0m \u001b[0;34m=\u001b[0m \u001b[0mclean_table_2\u001b[0m\u001b[0;34m.\u001b[0m\u001b[0mget_column\u001b[0m\u001b[0;34m(\u001b[0m\u001b[0;34m\"OZONE_LEVEL\"\u001b[0m\u001b[0;34m)\u001b[0m\u001b[0;34m\u001b[0m\u001b[0;34m\u001b[0m\u001b[0m\n\u001b[1;32m     17\u001b[0m \u001b[0mX2\u001b[0m \u001b[0;34m=\u001b[0m \u001b[0;34m[\u001b[0m\u001b[0;34m[\u001b[0m\u001b[0mtemp2\u001b[0m\u001b[0;34m[\u001b[0m\u001b[0mi\u001b[0m\u001b[0;34m]\u001b[0m\u001b[0;34m,\u001b[0m \u001b[0mhumidity2\u001b[0m\u001b[0;34m[\u001b[0m\u001b[0mi\u001b[0m\u001b[0;34m]\u001b[0m\u001b[0;34m,\u001b[0m \u001b[0mradiation2\u001b[0m\u001b[0;34m[\u001b[0m\u001b[0mi\u001b[0m\u001b[0;34m]\u001b[0m\u001b[0;34m,\u001b[0m \u001b[0mprecip2\u001b[0m\u001b[0;34m[\u001b[0m\u001b[0mi\u001b[0m\u001b[0;34m]\u001b[0m\u001b[0;34m,\u001b[0m \u001b[0mwind_speed2\u001b[0m\u001b[0;34m[\u001b[0m\u001b[0mi\u001b[0m\u001b[0;34m]\u001b[0m\u001b[0;34m,\u001b[0m \u001b[0mwind_dir2\u001b[0m\u001b[0;34m[\u001b[0m\u001b[0mi\u001b[0m\u001b[0;34m]\u001b[0m\u001b[0;34m,\u001b[0m \u001b[0mflow2\u001b[0m\u001b[0;34m[\u001b[0m\u001b[0mi\u001b[0m\u001b[0;34m]\u001b[0m\u001b[0;34m,\u001b[0m \u001b[0mwind_scalar2\u001b[0m\u001b[0;34m[\u001b[0m\u001b[0mi\u001b[0m\u001b[0;34m]\u001b[0m\u001b[0;34m,\u001b[0m \u001b[0mshelter2\u001b[0m\u001b[0;34m[\u001b[0m\u001b[0mi\u001b[0m\u001b[0;34m]\u001b[0m\u001b[0;34m]\u001b[0m \u001b[0;32mfor\u001b[0m \u001b[0mi\u001b[0m \u001b[0;32min\u001b[0m \u001b[0mrange\u001b[0m\u001b[0;34m(\u001b[0m\u001b[0mlen\u001b[0m\u001b[0;34m(\u001b[0m\u001b[0mtemp2\u001b[0m\u001b[0;34m)\u001b[0m\u001b[0;34m)\u001b[0m\u001b[0;34m]\u001b[0m\u001b[0;34m\u001b[0m\u001b[0;34m\u001b[0m\u001b[0m\n\u001b[0;32m---> 18\u001b[0;31m \u001b[0mnaive_acc\u001b[0m\u001b[0;34m,\u001b[0m \u001b[0mnaive_precison\u001b[0m\u001b[0;34m,\u001b[0m \u001b[0mnaive_recall\u001b[0m\u001b[0;34m,\u001b[0m \u001b[0mnaive_f1\u001b[0m \u001b[0;34m=\u001b[0m \u001b[0mmyevaluation\u001b[0m\u001b[0;34m.\u001b[0m\u001b[0mfind_eval_nums_for_k_fold\u001b[0m\u001b[0;34m(\u001b[0m\u001b[0mknn_classifier\u001b[0m\u001b[0;34m,\u001b[0m \u001b[0;36m5\u001b[0m\u001b[0;34m,\u001b[0m \u001b[0mX2\u001b[0m\u001b[0;34m,\u001b[0m \u001b[0my2\u001b[0m\u001b[0;34m,\u001b[0m \u001b[0;32mTrue\u001b[0m\u001b[0;34m)\u001b[0m\u001b[0;34m\u001b[0m\u001b[0;34m\u001b[0m\u001b[0m\n\u001b[0m",
      "\u001b[0;32m/home/Final_Project/cpsc322project/myevaluation.py\u001b[0m in \u001b[0;36mfind_eval_nums_for_k_fold\u001b[0;34m(classifier, k, X, y, stratified)\u001b[0m\n\u001b[1;32m    249\u001b[0m         \u001b[0my_test\u001b[0m \u001b[0;34m=\u001b[0m \u001b[0;34m[\u001b[0m\u001b[0my\u001b[0m\u001b[0;34m[\u001b[0m\u001b[0mj\u001b[0m\u001b[0;34m]\u001b[0m \u001b[0;32mfor\u001b[0m \u001b[0mj\u001b[0m \u001b[0;32min\u001b[0m \u001b[0mX_test_folds\u001b[0m\u001b[0;34m[\u001b[0m\u001b[0mi\u001b[0m\u001b[0;34m]\u001b[0m\u001b[0;34m]\u001b[0m\u001b[0;34m\u001b[0m\u001b[0;34m\u001b[0m\u001b[0m\n\u001b[1;32m    250\u001b[0m         \u001b[0mclassifier\u001b[0m\u001b[0;34m.\u001b[0m\u001b[0mfit\u001b[0m\u001b[0;34m(\u001b[0m\u001b[0mX_train\u001b[0m\u001b[0;34m,\u001b[0m \u001b[0my_train\u001b[0m\u001b[0;34m)\u001b[0m\u001b[0;34m\u001b[0m\u001b[0;34m\u001b[0m\u001b[0m\n\u001b[0;32m--> 251\u001b[0;31m         \u001b[0my_pred\u001b[0m \u001b[0;34m=\u001b[0m \u001b[0mclassifier\u001b[0m\u001b[0;34m.\u001b[0m\u001b[0mpredict\u001b[0m\u001b[0;34m(\u001b[0m\u001b[0mX_test\u001b[0m\u001b[0;34m)\u001b[0m\u001b[0;34m\u001b[0m\u001b[0;34m\u001b[0m\u001b[0m\n\u001b[0m\u001b[1;32m    252\u001b[0m         \u001b[0mentire_y_pred\u001b[0m \u001b[0;34m=\u001b[0m \u001b[0mentire_y_pred\u001b[0m \u001b[0;34m+\u001b[0m \u001b[0my_pred\u001b[0m\u001b[0;34m\u001b[0m\u001b[0;34m\u001b[0m\u001b[0m\n\u001b[1;32m    253\u001b[0m         \u001b[0mentire_y_test\u001b[0m \u001b[0;34m=\u001b[0m \u001b[0mentire_y_test\u001b[0m \u001b[0;34m+\u001b[0m \u001b[0my_test\u001b[0m\u001b[0;34m\u001b[0m\u001b[0;34m\u001b[0m\u001b[0m\n",
      "\u001b[0;32m/home/Final_Project/cpsc322project/myclassifiers.py\u001b[0m in \u001b[0;36mpredict\u001b[0;34m(self, X_test)\u001b[0m\n\u001b[1;32m    570\u001b[0m             \u001b[0my_predicted\u001b[0m\u001b[0;34m(\u001b[0m\u001b[0mlist\u001b[0m \u001b[0mof\u001b[0m \u001b[0mobj\u001b[0m\u001b[0;34m)\u001b[0m\u001b[0;34m:\u001b[0m \u001b[0mThe\u001b[0m \u001b[0mpredicted\u001b[0m \u001b[0mtarget\u001b[0m \u001b[0my\u001b[0m \u001b[0mvalues\u001b[0m \u001b[0;34m(\u001b[0m\u001b[0mparallel\u001b[0m \u001b[0mto\u001b[0m \u001b[0mX_test\u001b[0m\u001b[0;34m)\u001b[0m\u001b[0;34m\u001b[0m\u001b[0;34m\u001b[0m\u001b[0m\n\u001b[1;32m    571\u001b[0m         \"\"\"\n\u001b[0;32m--> 572\u001b[0;31m         \u001b[0m_\u001b[0m\u001b[0;34m,\u001b[0m \u001b[0mindices\u001b[0m \u001b[0;34m=\u001b[0m \u001b[0mself\u001b[0m\u001b[0;34m.\u001b[0m\u001b[0mkneighbors\u001b[0m\u001b[0;34m(\u001b[0m\u001b[0mX_test\u001b[0m\u001b[0;34m)\u001b[0m\u001b[0;34m\u001b[0m\u001b[0;34m\u001b[0m\u001b[0m\n\u001b[0m\u001b[1;32m    573\u001b[0m \u001b[0;34m\u001b[0m\u001b[0m\n\u001b[1;32m    574\u001b[0m         \u001b[0mclassification_strings\u001b[0m \u001b[0;34m=\u001b[0m \u001b[0;34m[\u001b[0m\u001b[0;34m]\u001b[0m\u001b[0;34m\u001b[0m\u001b[0;34m\u001b[0m\u001b[0m\n",
      "\u001b[0;32m/home/Final_Project/cpsc322project/myclassifiers.py\u001b[0m in \u001b[0;36mkneighbors\u001b[0;34m(self, X_test)\u001b[0m\n\u001b[1;32m    530\u001b[0m             \u001b[0mtemp_neighbor\u001b[0m \u001b[0;34m=\u001b[0m \u001b[0;34m[\u001b[0m\u001b[0;34m]\u001b[0m\u001b[0;34m\u001b[0m\u001b[0;34m\u001b[0m\u001b[0m\n\u001b[1;32m    531\u001b[0m             \u001b[0;32mfor\u001b[0m \u001b[0mi\u001b[0m\u001b[0;34m,\u001b[0m \u001b[0mtrain_instance\u001b[0m \u001b[0;32min\u001b[0m \u001b[0menumerate\u001b[0m\u001b[0;34m(\u001b[0m\u001b[0mself\u001b[0m\u001b[0;34m.\u001b[0m\u001b[0mX_train\u001b[0m\u001b[0;34m)\u001b[0m\u001b[0;34m:\u001b[0m\u001b[0;34m\u001b[0m\u001b[0;34m\u001b[0m\u001b[0m\n\u001b[0;32m--> 532\u001b[0;31m                 \u001b[0mdist\u001b[0m \u001b[0;34m=\u001b[0m \u001b[0mself\u001b[0m\u001b[0;34m.\u001b[0m\u001b[0mcompute_euclidean_distance\u001b[0m\u001b[0;34m(\u001b[0m\u001b[0mtrain_instance\u001b[0m\u001b[0;34m,\u001b[0m \u001b[0mtext_case\u001b[0m\u001b[0;34m)\u001b[0m\u001b[0;34m\u001b[0m\u001b[0;34m\u001b[0m\u001b[0m\n\u001b[0m\u001b[1;32m    533\u001b[0m                 \u001b[0mrow_indexes_dists\u001b[0m\u001b[0;34m.\u001b[0m\u001b[0mappend\u001b[0m\u001b[0;34m(\u001b[0m\u001b[0;34m[\u001b[0m\u001b[0mi\u001b[0m\u001b[0;34m,\u001b[0m \u001b[0mdist\u001b[0m\u001b[0;34m]\u001b[0m\u001b[0;34m)\u001b[0m\u001b[0;34m\u001b[0m\u001b[0;34m\u001b[0m\u001b[0m\n\u001b[1;32m    534\u001b[0m             \u001b[0mrow_indexes_dists\u001b[0m\u001b[0;34m.\u001b[0m\u001b[0msort\u001b[0m\u001b[0;34m(\u001b[0m\u001b[0mkey\u001b[0m\u001b[0;34m=\u001b[0m\u001b[0moperator\u001b[0m\u001b[0;34m.\u001b[0m\u001b[0mitemgetter\u001b[0m\u001b[0;34m(\u001b[0m\u001b[0;34m-\u001b[0m\u001b[0;36m1\u001b[0m\u001b[0;34m)\u001b[0m\u001b[0;34m)\u001b[0m\u001b[0;34m\u001b[0m\u001b[0;34m\u001b[0m\u001b[0m\n",
      "\u001b[0;32m/home/Final_Project/cpsc322project/myclassifiers.py\u001b[0m in \u001b[0;36mcompute_euclidean_distance\u001b[0;34m(self, v1, v2)\u001b[0m\n\u001b[1;32m    558\u001b[0m                     \u001b[0mdist\u001b[0m \u001b[0;34m+=\u001b[0m \u001b[0;36m0\u001b[0m\u001b[0;34m\u001b[0m\u001b[0;34m\u001b[0m\u001b[0m\n\u001b[1;32m    559\u001b[0m             \u001b[0;32melse\u001b[0m\u001b[0;34m:\u001b[0m\u001b[0;34m\u001b[0m\u001b[0;34m\u001b[0m\u001b[0m\n\u001b[0;32m--> 560\u001b[0;31m                 \u001b[0mdist\u001b[0m \u001b[0;34m+=\u001b[0m \u001b[0;34m(\u001b[0m\u001b[0;34m(\u001b[0m\u001b[0mv1\u001b[0m\u001b[0;34m[\u001b[0m\u001b[0mi\u001b[0m\u001b[0;34m]\u001b[0m \u001b[0;34m-\u001b[0m \u001b[0mv2\u001b[0m\u001b[0;34m[\u001b[0m\u001b[0mi\u001b[0m\u001b[0;34m]\u001b[0m\u001b[0;34m)\u001b[0m \u001b[0;34m**\u001b[0m \u001b[0;36m2\u001b[0m\u001b[0;34m)\u001b[0m\u001b[0;34m\u001b[0m\u001b[0;34m\u001b[0m\u001b[0m\n\u001b[0m\u001b[1;32m    561\u001b[0m         \u001b[0mdist\u001b[0m \u001b[0;34m=\u001b[0m \u001b[0mnp\u001b[0m\u001b[0;34m.\u001b[0m\u001b[0msqrt\u001b[0m\u001b[0;34m(\u001b[0m\u001b[0mdist\u001b[0m\u001b[0;34m)\u001b[0m\u001b[0;34m\u001b[0m\u001b[0;34m\u001b[0m\u001b[0m\n\u001b[1;32m    562\u001b[0m         \u001b[0;32mreturn\u001b[0m \u001b[0mdist\u001b[0m\u001b[0;34m\u001b[0m\u001b[0;34m\u001b[0m\u001b[0m\n",
      "\u001b[0;31mKeyboardInterrupt\u001b[0m: "
     ]
    }
   ],
   "source": [
    "importlib.reload(myevaluation)\n",
    "\n",
    "knn_classifier = MyKNeighborsClassifier()\n",
    "naive_classifier = MyNaiveBayesClassifier()\n",
    "\n",
    "date2 = clean_table_2.get_column(\"DATE_TIME\")\n",
    "temp2 = clean_table_2.get_column(\"TEMPERATURE\")\n",
    "humidity2 = clean_table_2.get_column(\"RELATIVE_HUMIDITY\")\n",
    "radiation2 = clean_table_2.get_column(\"SOLAR_RADIATION\")\n",
    "precip2 = clean_table_2.get_column(\"PRECIPITATION\")\n",
    "wind_speed2 = clean_table_2.get_column(\"WINDSPEED\")\n",
    "wind_dir2 = clean_table_2.get_column(\"WIND_DIRECTION\")\n",
    "flow2 = clean_table_2.get_column(\"FLOW_RATE\")\n",
    "wind_scalar2 = clean_table_2.get_column(\"WINDSPEED_SCALAR\")\n",
    "shelter2 = clean_table_2.get_column(\"SHELTER_TEMPERATURE\")\n",
    "y2 = clean_table_2.get_column(\"OZONE_LEVEL\")\n",
    "X2 = [[temp2[i], humidity2[i], radiation2[i], precip2[i], wind_speed2[i], wind_dir2[i], flow2[i], wind_scalar2[i], shelter2[i]] for i in range(len(temp2))]\n",
    "naive_acc, naive_precison, naive_recall, naive_f1 = myevaluation.find_eval_nums_for_k_fold(knn_classifier, 5, X2, y2, True)"
   ]
  },
  {
   "cell_type": "code",
   "execution_count": null,
   "metadata": {},
   "outputs": [],
   "source": [
    "print(\"Accuaracy:\", naive_acc)\n",
    "print(\"Precision:\", naive_precison)\n",
    "print(\"Recall:\", naive_recall)\n",
    "print(\"F1:\", naive_f1)"
   ]
  }
 ],
 "metadata": {
  "interpreter": {
   "hash": "d4d1e4263499bec80672ea0156c357c1ee493ec2b1c70f0acce89fc37c4a6abe"
  },
  "kernelspec": {
   "display_name": "Python 3.9.7 64-bit ('base': conda)",
   "name": "python3"
  },
  "language_info": {
   "codemirror_mode": {
    "name": "ipython",
    "version": 3
   },
   "file_extension": ".py",
   "mimetype": "text/x-python",
   "name": "python",
   "nbconvert_exporter": "python",
   "pygments_lexer": "ipython3",
   "version": "3.9.7"
  },
  "orig_nbformat": 4
 },
 "nbformat": 4,
 "nbformat_minor": 2
}
