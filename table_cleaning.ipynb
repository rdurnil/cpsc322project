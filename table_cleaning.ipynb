{
 "cells": [
  {
   "cell_type": "code",
   "execution_count": 2,
   "metadata": {},
   "outputs": [],
   "source": [
    "from mysklearn.myclassifiers import MyPyTable, MyKNeighborsClassifier, MyNaiveBayesClassifier\n",
    "from mysklearn import myutils\n",
    "import numpy as np\n",
    "from mysklearn import myevaluation\n",
    "import importlib\n",
    "import discretization"
   ]
  },
  {
   "cell_type": "markdown",
   "metadata": {},
   "source": [
    "All columns prior to cleaning:\n",
    "\n",
    "\"SITE_ID\",\"DATE_TIME\",\"TEMPERATURE\",\"TEMPERATURE_DELTA\",\"RELATIVE_HUMIDITY\",\"SOLAR_RADIATION\",\"OZONE\",\n",
    "\"PRECIPITATION\",\"WINDSPEED\",\"WIND_DIRECTION\",\n",
    "\"SIGMA_THETA\",\"FLOW_RATE\",\"WINDSPEED_SCALAR\",\"WETNESS\",\"SHELTER_TEMPERATURE\",\"QA_CODE\",\"UPDATE_DATE\"\n",
    "\n",
    "To remove:\n",
    "* \"SITE_ID\"\n",
    "* \"TEMPERATURE_DELTA\"\n",
    "* \"SIGMA_THETA\"\n",
    "* \"QA_CODE\"\n",
    "* \"UPDATE_DATE\"\n",
    "* \"WETNESS\""
   ]
  },
  {
   "cell_type": "code",
   "execution_count": 3,
   "metadata": {},
   "outputs": [
    {
     "name": "stdout",
     "output_type": "stream",
     "text": [
      "(36699, 11)\n"
     ]
    }
   ],
   "source": [
    "table = MyPyTable()\n",
    "table.load_from_file(\"meteorological-hourly.csv\")\n",
    "clean_table = table.get_multiple_columns([\"DATE_TIME\",\"TEMPERATURE\",\"RELATIVE_HUMIDITY\",\"SOLAR_RADIATION\",\"OZONE\",\\\n",
    "    \"PRECIPITATION\",\"WINDSPEED\",\"WIND_DIRECTION\",\"FLOW_RATE\",\"WINDSPEED_SCALAR\",\"SHELTER_TEMPERATURE\"], \"\", False)\n",
    "print(clean_table.get_shape())\n",
    "clean_table.save_to_file(\"meteorological-hourly-clean.csv\")"
   ]
  },
  {
   "cell_type": "markdown",
   "metadata": {},
   "source": [
    "Ozone Classification:\n",
    "* Low: 0-15\n",
    "* Normal: 16-35\n",
    "* High: 36-"
   ]
  },
  {
   "cell_type": "code",
   "execution_count": 4,
   "metadata": {},
   "outputs": [],
   "source": [
    "ozone_column = clean_table.get_column(\"OZONE\")\n",
    "classified_column = []\n",
    "for ozone in ozone_column:\n",
    "    classified_column.append(discretization.ozone_assigning(ozone))\n",
    "clean_table_2 = clean_table.get_multiple_columns([\"DATE_TIME\",\"TEMPERATURE\",\"RELATIVE_HUMIDITY\",\"SOLAR_RADIATION\",\\\n",
    "    \"PRECIPITATION\",\"WINDSPEED\",\"WIND_DIRECTION\",\"FLOW_RATE\",\"WINDSPEED_SCALAR\",\"SHELTER_TEMPERATURE\"], \"\", False)\n",
    "clean_table_2.add_column(\"OZONE_LEVEL\", classified_column)"
   ]
  },
  {
   "cell_type": "code",
   "execution_count": 5,
   "metadata": {},
   "outputs": [
    {
     "data": {
      "image/png": "[encoded data removed]",
      "text/plain": [
       "<Figure size 432x288 with 1 Axes>"
      ]
     },
     "metadata": {
      "needs_background": "light"
     },
     "output_type": "display_data"
    }
   ],
   "source": [
    "classifiers = [\"Low\", \"Normal\", \"High\"]\n",
    "classifier_count = myutils.count_unique_items(classified_column, classifiers)\n",
    "myutils.bar_chart(classifiers, classifier_count, \"Distribution of Classes\")"
   ]
  },
  {
   "cell_type": "code",
   "execution_count": null,
   "metadata": {},
   "outputs": [],
   "source": [
    "importlib.reload(myutils)\n",
    "\n",
    "date = clean_table.get_column(\"DATE_TIME\")\n",
    "temp = clean_table.get_column(\"TEMPERATURE\")\n",
    "humidity = clean_table.get_column(\"RELATIVE_HUMIDITY\")\n",
    "radiation = clean_table.get_column(\"SOLAR_RADIATION\")\n",
    "precip = clean_table.get_column(\"PRECIPITATION\")\n",
    "wind_speed = clean_table.get_column(\"WINDSPEED\")\n",
    "wind_dir = clean_table.get_column(\"WIND_DIRECTION\")\n",
    "flow = clean_table.get_column(\"FLOW_RATE\")\n",
    "wind_scalar = clean_table.get_column(\"WINDSPEED_SCALAR\")\n",
    "shelter = clean_table.get_column(\"SHELTER_TEMPERATURE\")\n",
    "X = [[date[i], temp[i], humidity[i], radiation[i], precip[i], wind_speed[i], wind_dir[i], flow[i], wind_scalar[i], shelter[i]] for i in range(len(temp))]\n",
    "X_to_trim = [X[i] + [classified_column[i]] for i in range(len(X))]\n",
    "classes, class_subtables = myutils.group_by_for_trimming(X_to_trim, classified_column)\n",
    "np.random.seed(0)\n",
    "rows_to_keep = [class_subtables[0][i][0] for i in range(len(class_subtables[0]))]\n",
    "for i in range(len(class_subtables[0])):\n",
    "    to_keep = class_subtables[1].pop(np.random.randint(0, len(class_subtables[1])))\n",
    "    rows_to_keep.append(to_keep[0])\n",
    "    to_keep = class_subtables[2].pop(np.random.randint(0, len(class_subtables[2])))\n",
    "    rows_to_keep.append(to_keep[0])\n",
    "\n",
    "rows_to_remove = list(np.arange(0, len(classified_column)))\n",
    "for row in rows_to_keep:\n",
    "    rows_to_remove.remove(row)\n",
    "clean_table_2.drop_rows(rows_to_remove)\n",
    "clean_table_2.save_to_file(\"meteorological-hourly-clean.csv\")"
   ]
  },
  {
   "cell_type": "code",
   "execution_count": null,
   "metadata": {},
   "outputs": [
    {
     "data": {
      "image/png": "[encoded data removed]",
      "text/plain": [
       "<Figure size 432x288 with 1 Axes>"
      ]
     },
     "metadata": {
      "needs_background": "light"
     },
     "output_type": "display_data"
    }
   ],
   "source": [
    "classifier_count2 = myutils.count_unique_items(clean_table_2.get_column(\"OZONE_LEVEL\"), classifiers)\n",
    "myutils.bar_chart(classifiers, classifier_count2, \"Distribution of Classes\")"
   ]
  }
 ],
 "metadata": {
  "interpreter": {
   "hash": "d4d1e4263499bec80672ea0156c357c1ee493ec2b1c70f0acce89fc37c4a6abe"
  },
  "kernelspec": {
   "display_name": "Python 3.9.7 64-bit ('base': conda)",
   "name": "python3"
  },
  "language_info": {
   "codemirror_mode": {
    "name": "ipython",
    "version": 3
   },
   "file_extension": ".py",
   "mimetype": "text/x-python",
   "name": "python",
   "nbconvert_exporter": "python",
   "pygments_lexer": "ipython3",
   "version": "3.9.7"
  },
  "orig_nbformat": 4
 },
 "nbformat": 4,
 "nbformat_minor": 2
}
