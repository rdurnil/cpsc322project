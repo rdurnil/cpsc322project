{
 "cells": [
  {
   "cell_type": "code",
   "execution_count": 5,
   "metadata": {},
   "outputs": [],
   "source": [
    "from mypytable import MyPyTable "
   ]
  },
  {
   "cell_type": "markdown",
   "metadata": {},
   "source": [
    "All columns prior to cleaning:\n",
    "\n",
    "\"SITE_ID\",\"DATE_TIME\",\"TEMPERATURE\",\"TEMPERATURE_DELTA\",\"RELATIVE_HUMIDITY\",\"SOLAR_RADIATION\",\"OZONE\",\n",
    "\"PRECIPITATION\",\"WINDSPEED\",\"WIND_DIRECTION\",\n",
    "\"SIGMA_THETA\",\"FLOW_RATE\",\"WINDSPEED_SCALAR\",\"WETNESS\",\"SHELTER_TEMPERATURE\",\"QA_CODE\",\"UPDATE_DATE\"\n",
    "\n",
    "To remove:\n",
    "* \"SITE_ID\"\n",
    "* \"TEMPERATURE_DELTA\"\n",
    "* \"SIGMA_THETA\"\n",
    "* \"QA_CODE\"\n",
    "* \"UPDATE_DATE\"\n",
    "* \"WETNESS\""
   ]
  },
  {
   "cell_type": "code",
   "execution_count": 6,
   "metadata": {},
   "outputs": [
    {
     "name": "stdout",
     "output_type": "stream",
     "text": [
      "(36699, 11)\n"
     ]
    }
   ],
   "source": [
    "table = MyPyTable()\n",
    "table.load_from_file(\"meteorological-hourly.csv\")\n",
    "clean_table = table.get_multiple_columns([\"DATE_TIME\",\"TEMPERATURE\",\"RELATIVE_HUMIDITY\",\"SOLAR_RADIATION\",\"OZONE\",\\\n",
    "    \"PRECIPITATION\",\"WINDSPEED\",\"WIND_DIRECTION\",\"FLOW_RATE\",\"WINDSPEED_SCALAR\",\"SHELTER_TEMPERATURE\"], \"\", False)\n",
    "print(clean_table.get_shape())\n",
    "clean_table.save_to_file(\"meteorological-hourly-clean.csv\")"
   ]
  }
 ],
 "metadata": {
  "interpreter": {
   "hash": "d4d1e4263499bec80672ea0156c357c1ee493ec2b1c70f0acce89fc37c4a6abe"
  },
  "kernelspec": {
   "display_name": "Python 3.9.7 64-bit ('base': conda)",
   "name": "python3"
  },
  "language_info": {
   "codemirror_mode": {
    "name": "ipython",
    "version": 3
   },
   "file_extension": ".py",
   "mimetype": "text/x-python",
   "name": "python",
   "nbconvert_exporter": "python",
   "pygments_lexer": "ipython3",
   "version": "3.9.7"
  },
  "orig_nbformat": 4
 },
 "nbformat": 4,
 "nbformat_minor": 2
}
