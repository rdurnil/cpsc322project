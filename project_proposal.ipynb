{
 "cells": [
  {
   "cell_type": "markdown",
   "metadata": {},
   "source": [
    "# Ozone Prediction at Mount Rainier\n",
    "## Team Members: Rie Durnil, Kevin Olbright\n",
    "\n",
    "## Dataset Description\n",
    "* Source: [ozone dataset](https://catalog.data.gov/dataset/clean-air-status-and-trends-network-castnet-ozone)\n",
    "* Format: csv file\n",
    "* Contents: date/time, temperature, wind speed, precipitation, humidity, solar radiation, and ozone, plus a few other columns.\n",
    "    * We will classify all the above contents and predict the ozone as low, medium, or high.\n",
    "\n",
    "## Implementation/Technical Merit\n",
    "* Anticipated Challenges in Preprocessing/Classification:\n",
    "    * Our dataset has a lot of missing data, so we need to get rid of a lot of rows. Additionally, we need to classify almost every column. Because of this, preprocessing will require quite a bit of work and thoughtfulness in knowing how to classify. \n",
    "* Pairing Down Attributes:\n",
    "    * Our dataset does not have too many columns, but if it becomes an issue, we will cut back on columns that seem to share similar data. We also intend to break up date/time into month, date, year, and time, so we will actually be adding columns. \n",
    "\n",
    "## Potential Impact of the Results\n",
    "* Usefulness of Results: Predicting ozone is useful because too much can be harmful to your health, and being able to predict based on weather patterns may allow people to decide whether or not to go to Mount Rainer on a specific day. \n",
    "* Stakeholders: People who want to visit Mount Rainier and people who live in the area. Also people studying climate change may find this useful."
   ]
  }
 ],
 "metadata": {
  "language_info": {
   "name": "python"
  },
  "orig_nbformat": 4
 },
 "nbformat": 4,
 "nbformat_minor": 2
}
