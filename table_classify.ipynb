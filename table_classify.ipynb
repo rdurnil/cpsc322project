{
 "cells": [
  {
   "cell_type": "code",
   "execution_count": 61,
   "metadata": {},
   "outputs": [],
   "source": [
    "import importlib\n",
    "import mysklearn.mypytable\n",
    "importlib.reload(mysklearn.mypytable)\n",
    "from mysklearn.mypytable import MyPyTable \n",
    "from mysklearn.myclassifiers import MyKNeighborsClassifier, MyNaiveBayesClassifier\n",
    "from mysklearn import myutils\n",
    "import numpy as np\n",
    "from mysklearn import myevaluation\n",
    "import discretization"
   ]
  },
  {
   "cell_type": "code",
   "execution_count": 62,
   "metadata": {},
   "outputs": [],
   "source": [
    "table = MyPyTable()\n",
    "table.load_from_file(\"meteorological-hourly-clean.csv\")\n",
    "table_labels = [\"DATE_TIME\",\"TEMPERATURE\",\"RELATIVE_HUMIDITY\",\"SOLAR_RADIATION\",\\\n",
    "    \"PRECIPITATION\",\"WINDSPEED\",\"WIND_DIRECTION\",\"FLOW_RATE\",\"WINDSPEED_SCALAR\",\"SHELTER_TEMPERATURE\"]\n",
    "new_labels = [\"DATE_TIME\",\"TEMPERATURE\",\"RELATIVE_HUMIDITY\",\"SOLAR_RADIATION\",\\\n",
    "    \"PRECIPITATION\",\"WINDSPEED\",\"WIND_DIRECTION\",\"WINDSPEED_SCALAR\",\"SHELTER_TEMPERATURE\"]\n",
    "\n",
    "x_data = table.get_multiple_columns(new_labels, \"\")\n",
    "y_data = table.get_column(\"OZONE_LEVEL\")"
   ]
  },
  {
   "cell_type": "code",
   "execution_count": 63,
   "metadata": {},
   "outputs": [
    {
     "name": "stdout",
     "output_type": "stream",
     "text": [
      "Accuracy: 0.58\n",
      "Precision: 0.6843657817109144\n",
      "Recall: 0.6628571428571428\n",
      "F1: 0.6734397677793904\n"
     ]
    }
   ],
   "source": [
    "knn_classifier = MyKNeighborsClassifier()\n",
    "accuracy, precision, recall, f1 = myevaluation.find_eval_nums_for_k_fold(knn_classifier, 3, x_data.data, y_data, True)\n",
    "print(\"Accuracy:\", accuracy)\n",
    "print(\"Precision:\", precision)\n",
    "print(\"Recall:\", recall)\n",
    "print(\"F1:\", f1)"
   ]
  },
  {
   "cell_type": "code",
   "execution_count": 64,
   "metadata": {},
   "outputs": [
    {
     "name": "stdout",
     "output_type": "stream",
     "text": [
      "[0.2, 0.3, 0.4, 0.5, 0.6, 0.6999, 0.7, 0.8, 0.8999, 0.9, 1.0, 1.1, 1.2, 1.3, 1.4, 1.5, 1.6, 1.7, 1.8, 1.9, 2.0, 2.0999, 2.1, 2.2, 2.3, 2.4, 2.5, 2.5999, 2.7, 2.8, 2.9, 3.0, 3.2, 3.3, 3.4, 3.5, 3.5999, 3.7, 3.9, 4.0999]\n"
     ]
    }
   ],
   "source": [
    "temp_unique = x_data.get_column(\"WINDSPEED_SCALAR\")\n",
    "print(myutils.find_unique_items(temp_unique))"
   ]
  },
  {
   "cell_type": "code",
   "execution_count": 65,
   "metadata": {},
   "outputs": [
    {
     "name": "stdout",
     "output_type": "stream",
     "text": [
      "['Month']\n"
     ]
    }
   ],
   "source": [
    "discretized_table = MyPyTable()\n",
    "\n",
    "date_time = x_data.get_column(\"DATE_TIME\")\n",
    "date_disc = []\n",
    "for date in date_time:\n",
    "    date_disc.append(discretization.date_time(date))\n",
    "discretized_table.add_column(\"Month\", date_disc)\n",
    "\n",
    "print(discretized_table.column_names)\n",
    "\n",
    "temp = x_data.get_column(\"TEMPERATURE\")\n",
    "temp_disc = []\n",
    "for t in temp:\n",
    "    temp_disc.append(discretization.temp_disc(t))\n",
    "discretized_table.add_column(\"Temperature\", temp_disc)\n",
    "\n",
    "humidity = x_data.get_column(\"RELATIVE_HUMIDITY\")\n",
    "hum_disc = []\n",
    "for h in humidity:\n",
    "    hum_disc.append(discretization.humidity_disc(h))\n",
    "discretized_table.add_column(\"Relative Humidity\", hum_disc)\n",
    "\n",
    "radiation = x_data.get_column(\"SOLAR_RADIATION\")\n",
    "rad_disc = []\n",
    "for r in radiation:\n",
    "    rad_disc.append(discretization.radiation(r))\n",
    "discretized_table.add_column(\"Solar Radiation\", rad_disc)\n",
    "\n",
    "precip = x_data.get_column(\"PRECIPITATION\")\n",
    "precip_disc = []\n",
    "for p in precip:\n",
    "    precip_disc.append(discretization.precipitation(p))\n",
    "discretized_table.add_column(\"Precipitaion\", precip_disc)\n",
    "\n",
    "windspeed = x_data.get_column(\"WINDSPEED\")\n",
    "windspeed_disc = []\n",
    "for w in windspeed:\n",
    "    windspeed_disc.append(discretization.wind_speed(w))\n",
    "discretized_table.add_column(\"Windspeed\", windspeed_disc)\n",
    "\n",
    "winddir = x_data.get_column(\"WIND_DIRECTION\")\n",
    "winddir_disc = []\n",
    "for w in winddir:\n",
    "    winddir_disc.append(discretization.wind_dir(w))\n",
    "discretized_table.add_column(\"Wind Direction\", winddir_disc)\n",
    "\n",
    "shelter = x_data.get_column(\"SHELTER_TEMPERATURE\")\n",
    "shelter_disc = []\n",
    "for s in shelter:\n",
    "    shelter_disc.append(discretization.shelter_temp(s))\n",
    "discretized_table.add_column(\"Shelter Temperature\", shelter_disc)\n",
    "\n",
    "discretized_table.add_column(\"Ozone Level\", y_data)\n",
    "discretized_table.save_to_file(\"meteorological-dataset.csv\")\n"
   ]
  },
  {
   "cell_type": "code",
   "execution_count": null,
   "metadata": {},
   "outputs": [],
   "source": []
  }
 ],
 "metadata": {
  "interpreter": {
   "hash": "d4d1e4263499bec80672ea0156c357c1ee493ec2b1c70f0acce89fc37c4a6abe"
  },
  "kernelspec": {
   "display_name": "Python 3.9.7 64-bit ('base': conda)",
   "name": "python3"
  },
  "language_info": {
   "codemirror_mode": {
    "name": "ipython",
    "version": 3
   },
   "file_extension": ".py",
   "mimetype": "text/x-python",
   "name": "python",
   "nbconvert_exporter": "python",
   "pygments_lexer": "ipython3",
   "version": "3.9.7"
  },
  "orig_nbformat": 4
 },
 "nbformat": 4,
 "nbformat_minor": 2
}
