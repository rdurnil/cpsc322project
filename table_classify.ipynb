{
 "cells": [
  {
   "cell_type": "code",
   "execution_count": 3,
   "metadata": {},
   "outputs": [],
   "source": [
    "from mypytable import MyPyTable \n",
    "from myclassifiers import MyKNeighborsClassifier, MyNaiveBayesClassifier\n",
    "import myutils as myutils\n",
    "import numpy as np\n",
    "import myevaluation as myevaluation\n",
    "import importlib"
   ]
  },
  {
   "cell_type": "code",
   "execution_count": 4,
   "metadata": {},
   "outputs": [],
   "source": [
    "table = MyPyTable()\n",
    "table.load_from_file(\"meteorological-hourly-clean.csv\")\n",
    "table_labels = [\"DATE_TIME\",\"TEMPERATURE\",\"RELATIVE_HUMIDITY\",\"SOLAR_RADIATION\",\\\n",
    "    \"PRECIPITATION\",\"WINDSPEED\",\"WIND_DIRECTION\",\"FLOW_RATE\",\"WINDSPEED_SCALAR\",\"SHELTER_TEMPERATURE\"]\n",
    "new_labels = [\"DATE_TIME\",\"TEMPERATURE\",\"RELATIVE_HUMIDITY\",\"SOLAR_RADIATION\",\\\n",
    "    \"PRECIPITATION\",\"WINDSPEED\",\"WIND_DIRECTION\",\"WINDSPEED_SCALAR\",\"SHELTER_TEMPERATURE\"]\n",
    "\n",
    "x_data = table.get_multiple_columns(new_labels, \"\", False)\n",
    "y_data = table.get_column(\"OZONE_LEVEL\", True)"
   ]
  },
  {
   "cell_type": "code",
   "execution_count": 12,
   "metadata": {},
   "outputs": [
    {
     "name": "stdout",
     "output_type": "stream",
     "text": [
      "[0.2, 0.3, 0.4, 0.5, 0.6, 0.6999, 0.7, 0.8, 0.8999, 0.9, 1.0, 1.1, 1.2, 1.3, 1.4, 1.5, 1.6, 1.7, 1.8, 1.9, 2.0, 2.0999, 2.1, 2.2, 2.3, 2.4, 2.5, 2.5999, 2.7, 2.8, 2.9, 3.0, 3.0999, 3.2, 3.3, 3.4, 3.5, 3.5999, 3.7, 3.8, 3.9, 4.0, 4.0999, 4.3, 4.4, 4.5, 4.5999, 5.4, 5.5999, 7.5]\n"
     ]
    }
   ],
   "source": [
    "temp_unique = x_data.get_column(\"WINDSPEED_SCALAR\")\n",
    "print(myutils.find_unique_items(temp_unique))"
   ]
  }
 ],
 "metadata": {
  "interpreter": {
   "hash": "d4d1e4263499bec80672ea0156c357c1ee493ec2b1c70f0acce89fc37c4a6abe"
  },
  "kernelspec": {
   "display_name": "Python 3.9.7 ('base')",
   "language": "python",
   "name": "python3"
  },
  "language_info": {
   "codemirror_mode": {
    "name": "ipython",
    "version": 3
   },
   "file_extension": ".py",
   "mimetype": "text/x-python",
   "name": "python",
   "nbconvert_exporter": "python",
   "pygments_lexer": "ipython3",
   "version": "3.9.7"
  },
  "orig_nbformat": 4
 },
 "nbformat": 4,
 "nbformat_minor": 2
}
