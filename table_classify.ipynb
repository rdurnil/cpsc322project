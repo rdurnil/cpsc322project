{
 "cells": [
  {
   "cell_type": "code",
   "execution_count": 81,
   "metadata": {},
   "outputs": [],
   "source": [
    "import importlib\n",
    "import mysklearn.mypytable\n",
    "importlib.reload(mysklearn.mypytable)\n",
    "from mysklearn.mypytable import MyPyTable \n",
    "from mysklearn.myclassifiers import MyKNeighborsClassifier, MyNaiveBayesClassifier\n",
    "from mysklearn import myutils\n",
    "import numpy as np\n",
    "from mysklearn import myevaluation\n",
    "import discretization"
   ]
  },
  {
   "cell_type": "code",
   "execution_count": 82,
   "metadata": {},
   "outputs": [],
   "source": [
    "table = MyPyTable()\n",
    "table.load_from_file(\"meteorological-hourly-clean.csv\")\n",
    "table_labels = [\"DATE_TIME\",\"TEMPERATURE\",\"RELATIVE_HUMIDITY\",\"SOLAR_RADIATION\",\\\n",
    "    \"PRECIPITATION\",\"WINDSPEED\",\"WIND_DIRECTION\",\"FLOW_RATE\",\"WINDSPEED_SCALAR\",\"SHELTER_TEMPERATURE\"]\n",
    "new_labels = [\"DATE_TIME\",\"TEMPERATURE\",\"RELATIVE_HUMIDITY\",\"SOLAR_RADIATION\",\\\n",
    "    \"PRECIPITATION\",\"WINDSPEED\",\"WIND_DIRECTION\",\"WINDSPEED_SCALAR\",\"SHELTER_TEMPERATURE\"]\n",
    "\n",
    "x_data = table.get_multiple_columns(new_labels, \"\")\n",
    "y_data = table.get_column(\"OZONE_LEVEL\")"
   ]
  },
  {
   "cell_type": "code",
   "execution_count": 83,
   "metadata": {},
   "outputs": [
    {
     "name": "stdout",
     "output_type": "stream",
     "text": [
      "Accuracy: 0.58\n",
      "Precision: 0.6843657817109144\n",
      "Recall: 0.6628571428571428\n",
      "F1: 0.6734397677793904\n"
     ]
    }
   ],
   "source": [
    "knn_classifier = MyKNeighborsClassifier()\n",
    "accuracy, precision, recall, f1 = myevaluation.find_eval_nums_for_k_fold(knn_classifier, 3, x_data.data, y_data, True)\n",
    "print(\"Accuracy:\", accuracy)\n",
    "print(\"Precision:\", precision)\n",
    "print(\"Recall:\", recall)\n",
    "print(\"F1:\", f1)"
   ]
  },
  {
   "cell_type": "code",
   "execution_count": 84,
   "metadata": {},
   "outputs": [
    {
     "name": "stdout",
     "output_type": "stream",
     "text": [
      "[18.2999, 18.5, 18.6, 18.9, 19.0, 19.5, 19.6, 19.7, 19.7999, 19.8, 19.9, 20.0, 20.2999, 20.4, 20.5, 20.6, 20.7, 20.7999, 20.9, 21.0, 21.1, 21.2, 21.2999, 21.4, 21.5, 21.6, 21.7, 21.7999, 21.9, 22.0, 22.1, 22.2, 22.2999, 22.4, 22.5, 22.6, 22.7, 22.7999, 22.8, 22.9, 23.0, 23.1, 23.2, 23.2999, 23.3, 23.4, 23.5, 23.6, 23.7, 23.7999, 23.8, 23.9, 24.0, 24.1, 24.2, 24.2999, 24.3, 24.4, 24.5, 24.6, 24.7, 24.7999, 24.8, 24.9, 25.0, 25.1, 25.2, 25.2999, 25.3, 25.4, 25.5, 25.6, 25.7, 25.7999, 25.8, 25.9, 26.0, 26.1, 26.2, 26.2999, 26.4, 26.5, 26.6, 26.7, 26.7999, 26.9, 27.0, 27.1, 27.2, 27.2999, 27.4, 27.5, 27.6, 27.7, 27.9, 28.1, 28.2999, 29.2, 29.7]\n"
     ]
    }
   ],
   "source": [
    "temp_unique = x_data.get_column(\"SHELTER_TEMPERATURE\")\n",
    "print(myutils.find_unique_items(temp_unique))"
   ]
  },
  {
   "cell_type": "code",
   "execution_count": 85,
   "metadata": {},
   "outputs": [],
   "source": [
    "discretized_table = MyPyTable()\n",
    "\n",
    "date_time = x_data.get_column(\"DATE_TIME\")\n",
    "date_disc = []\n",
    "for date in date_time:\n",
    "    date_disc.append(discretization.date_time(date))\n",
    "discretized_table.add_column(\"Month\", date_disc)\n",
    "\n",
    "temp = x_data.get_column(\"TEMPERATURE\")\n",
    "temp_disc = []\n",
    "for t in temp:\n",
    "    temp_disc.append(discretization.temp_disc(t))\n",
    "discretized_table.add_column(\"Temperature\", temp_disc)\n",
    "\n",
    "humidity = x_data.get_column(\"RELATIVE_HUMIDITY\")\n",
    "hum_disc = []\n",
    "for h in humidity:\n",
    "    hum_disc.append(discretization.humidity_disc(h))\n",
    "discretized_table.add_column(\"Relative Humidity\", hum_disc)\n",
    "\n",
    "radiation = x_data.get_column(\"SOLAR_RADIATION\")\n",
    "rad_disc = []\n",
    "for r in radiation:\n",
    "    rad_disc.append(discretization.radiation(r))\n",
    "discretized_table.add_column(\"Solar Radiation\", rad_disc)\n",
    "\n",
    "precip = x_data.get_column(\"PRECIPITATION\")\n",
    "precip_disc = []\n",
    "for p in precip:\n",
    "    precip_disc.append(discretization.precipitation(p))\n",
    "discretized_table.add_column(\"Precipitaion\", precip_disc)\n",
    "\n",
    "windspeed = x_data.get_column(\"WINDSPEED\")\n",
    "windspeed_disc = []\n",
    "for w in windspeed:\n",
    "    windspeed_disc.append(discretization.wind_speed(w))\n",
    "discretized_table.add_column(\"Windspeed\", windspeed_disc)\n",
    "\n",
    "winddir = x_data.get_column(\"WIND_DIRECTION\")\n",
    "winddir_disc = []\n",
    "for w in winddir:\n",
    "    winddir_disc.append(discretization.wind_dir(w))\n",
    "discretized_table.add_column(\"Wind Direction\", winddir_disc)\n",
    "\n",
    "shelter = x_data.get_column(\"SHELTER_TEMPERATURE\")\n",
    "shelter_disc = []\n",
    "for s in shelter:\n",
    "    shelter_disc.append(discretization.shelter_temp(s))\n",
    "discretized_table.add_column(\"Shelter Temperature\", shelter_disc)\n",
    "\n",
    "discretized_table.add_column(\"Ozone Level\", y_data)\n",
    "discretized_table.save_to_file(\"meteorological-dataset.csv\")\n"
   ]
  },
  {
   "cell_type": "code",
   "execution_count": null,
   "metadata": {},
   "outputs": [],
   "source": []
  }
 ],
 "metadata": {
  "interpreter": {
   "hash": "d4d1e4263499bec80672ea0156c357c1ee493ec2b1c70f0acce89fc37c4a6abe"
  },
  "kernelspec": {
   "display_name": "Python 3.9.7 64-bit ('base': conda)",
   "name": "python3"
  },
  "language_info": {
   "codemirror_mode": {
    "name": "ipython",
    "version": 3
   },
   "file_extension": ".py",
   "mimetype": "text/x-python",
   "name": "python",
   "nbconvert_exporter": "python",
   "pygments_lexer": "ipython3",
   "version": "3.9.7"
  },
  "orig_nbformat": 4
 },
 "nbformat": 4,
 "nbformat_minor": 2
}
